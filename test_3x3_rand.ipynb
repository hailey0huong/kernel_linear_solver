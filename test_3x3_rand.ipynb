{
 "cells": [
  {
   "cell_type": "code",
   "execution_count": 1,
   "metadata": {
    "collapsed": true
   },
   "outputs": [],
   "source": [
    "def random_symmetric(n):\n",
    "    import random\n",
    "    B=[]\n",
    "    for i in range(1, n+1):\n",
    "        A=[]\n",
    "        for j in range(1,n+1):\n",
    "            if j<i:\n",
    "                A.append(B[j-1][i-1])\n",
    "            else:\n",
    "                A.append(random.randint(1,10**18)/10**18)\n",
    "        B.append(A)\n",
    "        C = np.array(B)\n",
    "    return C"
   ]
  },
  {
   "cell_type": "code",
   "execution_count": 2,
   "metadata": {
    "collapsed": true
   },
   "outputs": [],
   "source": [
    "def random_symmetric(n):\n",
    "    a=[]\n",
    "    rbf= gaussian_process.kernels.RBF(length_scale=l)\n",
    "    for i in range(n):\n",
    "        a.append([random.randint(1,101)/100])\n",
    "    return rbf(a,a)"
   ]
  },
  {
   "cell_type": "code",
   "execution_count": 3,
   "metadata": {},
   "outputs": [],
   "source": [
    "from random import Random\n",
    "from numpy import *\n",
    "from time import *\n",
    "from datetime import *\n",
    "from IPython.display import display\n",
    "import math\n",
    "import scipy as sp\n",
    "\n",
    "import matplotlib.pyplot as plt\n",
    "from sklearn import gaussian_process\n",
    "from sklearn.gaussian_process.kernels import Matern, WhiteKernel, ConstantKernel, RBF\n",
    "\n",
    "%matplotlib inline\n",
    "%load_ext autoreload\n",
    "%autoreload 2\n",
    "\n",
    "import scipy.stats as st\n",
    "import numpy as np\n",
    "import math\n",
    "\n",
    "def bsformula(cp, s, k, rf, t, v, div):\n",
    "        \"\"\" Price an option using the Black-Scholes model.\n",
    "        cp: +1/-1 for call/put\n",
    "        s: initial stock price\n",
    "        k: strike price\n",
    "        t: expiration time\n",
    "        v: volatility\n",
    "        rf: risk-free rate\n",
    "        div: dividend\n",
    "        \"\"\"\n",
    "\n",
    "        d1 = (np.log(s/k)+(rf-div+0.5*v*v)*t)/(v*np.sqrt(t))\n",
    "        d2 = d1 - v*np.sqrt(t)\n",
    "\n",
    "        optprice = (cp*s*np.exp(-div*t)*st.norm.cdf(cp*d1)) - (cp*k*np.exp(-rf*t)*st.norm.cdf(cp*d2))\n",
    "        delta = cp*st.norm.cdf(cp*d1)\n",
    "        vega  = s*np.sqrt(t)*st.norm.pdf(d1)\n",
    "        return optprice, delta, vega\n",
    "    \n",
    "KC = 130\n",
    "KP = 70\n",
    "r = 0.002\n",
    "sigma = 0.4\n",
    "T = 2.0\n",
    "S0 = 100\n",
    "\n",
    "lb = 0\n",
    "ub = 300\n",
    "training_number = 3\n",
    "testing_number = 100\n",
    "\n",
    "call = lambda x,y: bsformula(1, lb+(ub-lb)*x, KC, r, T, y, 0)[0]\n",
    "put = lambda x,y: bsformula(-1, lb+(ub-lb)*x, KP, r, T, y, 0)[0]\n",
    "\n",
    "x_train = np.array(np.linspace(0.01,1.0, training_number), dtype='float32').reshape(training_number, 1)\n",
    "x_test = np.array(np.linspace(0.01,1.0, testing_number), dtype='float32').reshape(testing_number, 1)\n",
    "\n",
    "y_train = []\n",
    "    \n",
    "for idx in range(len(x_train)):\n",
    "    y_train.append(call(x_train[idx], sigma))\n",
    "y_train = np.array(y_train)\n",
    "\n",
    "sk_kernel = RBF(length_scale=1.0, length_scale_bounds=(0.01, 10000.0)) #+ WhiteKernel(noise_level = 1e-12) #100000.0\n",
    "gp = gaussian_process.GaussianProcessRegressor(kernel=sk_kernel, n_restarts_optimizer=20)\n",
    "gp.fit(x_train,y_train)\n",
    "y_pred, sigma_hat = gp.predict(x_test, return_std=True)\n",
    "    \n",
    "l = gp.kernel_.length_scale\n",
    "rbf= gaussian_process.kernels.RBF(length_scale=l)\n",
    " \n",
    "Kernel= random_symmetric(training_number)\n",
    "K_y = Kernel + np.eye(training_number) * 1e-8\n",
    "L, lower = sp.linalg.cho_factor(K_y, lower=True)\n",
    "L1 = sp.linalg.cholesky(K_y, lower=True)\n"
   ]
  },
  {
   "cell_type": "code",
   "execution_count": 4,
   "metadata": {},
   "outputs": [
    {
     "data": {
      "text/plain": [
       "array([[ 2.32534256,  1.91397305,  1.25255105],\n",
       "       [ 1.91397305,  1.66531187,  0.9249114 ],\n",
       "       [ 1.25255105,  0.9249114 ,  1.00000001]])"
      ]
     },
     "metadata": {},
     "output_type": "display_data"
    },
    {
     "data": {
      "text/plain": [
       "4.6212290382625687"
      ]
     },
     "metadata": {},
     "output_type": "display_data"
    },
    {
     "data": {
      "text/plain": [
       "0.51360193395948328"
      ]
     },
     "metadata": {},
     "output_type": "display_data"
    }
   ],
   "source": [
    "A1 = L@L.T\n",
    "display(A1)\n",
    "display(np.linalg.norm(A1))\n",
    "B = A1 - K_y\n",
    "display(np.linalg.norm(B)/np.linalg.norm(A1)) \n",
    "#relative error of \"Cho_factor\" algorithm\n",
    "#This algorithm is problematic??????? For 3x3 matrix there should be very small error because of the simplicity???"
   ]
  },
  {
   "cell_type": "code",
   "execution_count": 5,
   "metadata": {},
   "outputs": [
    {
     "data": {
      "text/plain": [
       "array([[ 1.00000001,  0.64243322,  0.95531257],\n",
       "       [ 0.64243322,  1.00000001,  0.81566651],\n",
       "       [ 0.95531257,  0.81566651,  1.00000001]])"
      ]
     },
     "metadata": {},
     "output_type": "display_data"
    },
    {
     "data": {
      "text/plain": [
       "2.6422166616610059"
      ]
     },
     "metadata": {},
     "output_type": "display_data"
    },
    {
     "data": {
      "text/plain": [
       "0.0"
      ]
     },
     "metadata": {},
     "output_type": "display_data"
    }
   ],
   "source": [
    "A2 = L1@L1.T\n",
    "display(A2)\n",
    "display(np.linalg.norm(A2))\n",
    "B = A2 - K_y\n",
    "display(np.linalg.norm(B)/np.linalg.norm(A2)) \n",
    "#relative error of \"Cholesky\" algorithm"
   ]
  },
  {
   "cell_type": "code",
   "execution_count": 6,
   "metadata": {},
   "outputs": [
    {
     "data": {
      "text/plain": [
       "array([[ 1.        ,  0.99493325,  0.83287912],\n",
       "       [ 0.99493325,  1.        ,  0.88074177],\n",
       "       [ 0.83287912,  0.88074177,  1.        ]])"
      ]
     },
     "metadata": {},
     "output_type": "display_data"
    }
   ],
   "source": [
    "K = random_symmetric(3) #Lets use some simple number in a 3x3 matrix for testing\n",
    "display(K)"
   ]
  },
  {
   "cell_type": "code",
   "execution_count": 7,
   "metadata": {},
   "outputs": [
    {
     "data": {
      "text/plain": [
       "array([[ 1.        ,  0.        ,  0.        ],\n",
       "       [ 0.99493325,  0.10053772,  0.        ],\n",
       "       [ 0.83287912,  0.5180408 ,  0.19479758]])"
      ]
     },
     "metadata": {},
     "output_type": "display_data"
    },
    {
     "data": {
      "text/plain": [
       "array([[ 1.        ,  0.99493325,  0.83287912],\n",
       "       [ 0.99493325,  1.        ,  0.88074177],\n",
       "       [ 0.83287912,  0.88074177,  1.        ]])"
      ]
     },
     "metadata": {},
     "output_type": "display_data"
    }
   ],
   "source": [
    "L = sp.linalg.cholesky(K, lower=True)\n",
    "display(L)\n",
    "display(L@L.T)"
   ]
  },
  {
   "cell_type": "code",
   "execution_count": 8,
   "metadata": {},
   "outputs": [
    {
     "data": {
      "text/plain": [
       "array([[ 1.        ,  0.99493325,  0.83287912],\n",
       "       [ 0.99493325,  0.10053772,  0.88074177],\n",
       "       [ 0.83287912,  0.5180408 ,  0.19479758]])"
      ]
     },
     "metadata": {},
     "output_type": "display_data"
    },
    {
     "data": {
      "text/plain": [
       "array([[ 2.6835798 ,  1.828513  ,  1.51053798],\n",
       "       [ 1.828513  ,  1.77570607,  1.05230813],\n",
       "       [ 1.51053798,  1.05230813,  1.        ]])"
      ]
     },
     "metadata": {},
     "output_type": "display_data"
    }
   ],
   "source": [
    "L, lower = sp.linalg.cho_factor(K, lower=True)\n",
    "display(L)\n",
    "display(L@L.T)"
   ]
  },
  {
   "cell_type": "code",
   "execution_count": null,
   "metadata": {
    "collapsed": true
   },
   "outputs": [],
   "source": []
  }
 ],
 "metadata": {
  "kernelspec": {
   "display_name": "Python 3",
   "language": "python",
   "name": "python3"
  },
  "language_info": {
   "codemirror_mode": {
    "name": "ipython",
    "version": 3
   },
   "file_extension": ".py",
   "mimetype": "text/x-python",
   "name": "python",
   "nbconvert_exporter": "python",
   "pygments_lexer": "ipython3",
   "version": "3.6.1"
  }
 },
 "nbformat": 4,
 "nbformat_minor": 2
}
