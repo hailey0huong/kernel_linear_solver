{
 "cells": [
  {
   "cell_type": "code",
   "execution_count": 1,
   "metadata": {
    "collapsed": true
   },
   "outputs": [],
   "source": [
    "from random import Random\n",
    "import numpy as np\n",
    "import time\n",
    "import math\n",
    "import scipy as sp\n",
    "\n",
    "import matplotlib.pyplot as plt\n",
    "from sklearn import gaussian_process\n",
    "from sklearn.gaussian_process.kernels import RBF"
   ]
  },
  {
   "cell_type": "code",
   "execution_count": 3,
   "metadata": {
    "collapsed": true
   },
   "outputs": [],
   "source": [
    "#####Setting environment\n",
    "#================================\n",
    "def generate_matrix(training_number):\n",
    "    x_train = np.array(np.linspace(0.01,1.0, training_number), dtype='float32').reshape(training_number, 1)\n",
    "    rbf= gaussian_process.kernels.RBF()\n",
    "    Kernel= rbf(x_train, x_train)\n",
    "    K_y = Kernel + np.eye(training_number) * 1e-8\n",
    "\n",
    "    x = np.ones((training_number,1), dtype = 'int')\n",
    "\n",
    "        #Generate y vector \n",
    "    y = K_y@x\n",
    "\n",
    "    #SVD:\n",
    "    U,S,Vh = np.linalg.svd(K_y)\n",
    "    c = U.T@y\n",
    "\n",
    "    #QR:\n",
    "    Q,R = np.linalg.qr(K_y)\n",
    "    p = Q.T@y\n",
    "    return R, p, S, c\n"
   ]
  },
  {
   "cell_type": "code",
   "execution_count": 2,
   "metadata": {
    "collapsed": true
   },
   "outputs": [],
   "source": [
    "def back_substitute(A, b):\n",
    "    n = b.size\n",
    "    x = np.zeros(b.shape)\n",
    "    \n",
    "    x[n-1] = b[n-1]/A[n-1,n-1]\n",
    "    for i in range(n-2,-1,-1):\n",
    "        x[i] = b[i]\n",
    "        u = A[i,i+1:n]\n",
    "        v = x[i+1:n]\n",
    "        dotproduct = np.dot(u,v)\n",
    "        x[i] -= dotproduct\n",
    "        x[i] = x[i]/A[i,i]\n",
    "    \n",
    "    return x\n",
    "\n",
    "def back_substitute2(A, b):\n",
    "    n = b.size\n",
    "    x = np.zeros(b.shape)\n",
    "    \n",
    "    x[n-1] = b[n-1]/A[n-1,n-1]\n",
    "    for i in range(n-2,-1,-1):\n",
    "        x[i] = b[i]\n",
    "        for j in range(i+1,n):\n",
    "            x[i] = x[i] - A[i,j]*x[j]\n",
    "        \n",
    "        x[i] = x[i]/A[i,i]\n",
    "    \n",
    "    return x\n",
    "\n",
    "def back_substitute_diag(A, b):\n",
    "    n = b.size\n",
    "    b_list = b.ravel()\n",
    "    x = b_list/A\n",
    "    \n",
    "    return x.reshape(n,1)\n"
   ]
  },
  {
   "cell_type": "code",
   "execution_count": 4,
   "metadata": {
    "collapsed": true
   },
   "outputs": [],
   "source": [
    "R, p,S,c = generate_matrix(30)"
   ]
  },
  {
   "cell_type": "code",
   "execution_count": 5,
   "metadata": {},
   "outputs": [
    {
     "name": "stdout",
     "output_type": "stream",
     "text": [
      "247 µs ± 51.4 µs per loop (mean ± std. dev. of 7 runs, 1000 loops each)\n"
     ]
    }
   ],
   "source": [
    "%timeit back_substitute(R, p)"
   ]
  },
  {
   "cell_type": "code",
   "execution_count": 6,
   "metadata": {},
   "outputs": [
    {
     "name": "stdout",
     "output_type": "stream",
     "text": [
      "1.79 ms ± 337 µs per loop (mean ± std. dev. of 7 runs, 1000 loops each)\n"
     ]
    }
   ],
   "source": [
    "%timeit back_substitute2(R, p)"
   ]
  },
  {
   "cell_type": "code",
   "execution_count": 7,
   "metadata": {},
   "outputs": [
    {
     "name": "stdout",
     "output_type": "stream",
     "text": [
      "52.3 µs ± 2.25 µs per loop (mean ± std. dev. of 7 runs, 10000 loops each)\n"
     ]
    }
   ],
   "source": [
    "%timeit np.linalg.inv(R)@p"
   ]
  },
  {
   "cell_type": "code",
   "execution_count": 8,
   "metadata": {},
   "outputs": [
    {
     "name": "stdout",
     "output_type": "stream",
     "text": [
      "25.2 µs ± 766 ns per loop (mean ± std. dev. of 7 runs, 10000 loops each)\n"
     ]
    }
   ],
   "source": [
    "%timeit np.linalg.solve(R, p)"
   ]
  },
  {
   "cell_type": "code",
   "execution_count": 9,
   "metadata": {},
   "outputs": [
    {
     "name": "stdout",
     "output_type": "stream",
     "text": [
      "1.38 µs ± 17.7 ns per loop (mean ± std. dev. of 7 runs, 1000000 loops each)\n"
     ]
    }
   ],
   "source": [
    "%timeit back_substitute_diag(S, c)"
   ]
  },
  {
   "cell_type": "code",
   "execution_count": 10,
   "metadata": {},
   "outputs": [
    {
     "name": "stdout",
     "output_type": "stream",
     "text": [
      "44 µs ± 8.27 µs per loop (mean ± std. dev. of 7 runs, 10000 loops each)\n"
     ]
    }
   ],
   "source": [
    "%timeit np.linalg.solve(np.diag(S), c)"
   ]
  },
  {
   "cell_type": "code",
   "execution_count": 11,
   "metadata": {},
   "outputs": [
    {
     "name": "stdout",
     "output_type": "stream",
     "text": [
      "True\n",
      "True\n",
      "True\n",
      "True\n"
     ]
    }
   ],
   "source": [
    "###Check if the results are the same\n",
    "#===========================================\n",
    "print(np.allclose(back_substitute(R, p),np.linalg.solve(R, p)))\n",
    "print(np.allclose(back_substitute2(R, p),np.linalg.solve(R, p)))\n",
    "print(np.allclose(np.linalg.inv(R)@p,np.linalg.solve(R, p)))\n",
    "print(np.allclose(back_substitute_diag(S, c),np.linalg.solve(np.diag(S), c)))"
   ]
  },
  {
   "cell_type": "code",
   "execution_count": null,
   "metadata": {
    "collapsed": true
   },
   "outputs": [],
   "source": []
  }
 ],
 "metadata": {
  "anaconda-cloud": {},
  "kernelspec": {
   "display_name": "Python [conda env:anaconda3]",
   "language": "python",
   "name": "conda-env-anaconda3-py"
  },
  "language_info": {
   "codemirror_mode": {
    "name": "ipython",
    "version": 3
   },
   "file_extension": ".py",
   "mimetype": "text/x-python",
   "name": "python",
   "nbconvert_exporter": "python",
   "pygments_lexer": "ipython3",
   "version": "3.6.5"
  }
 },
 "nbformat": 4,
 "nbformat_minor": 2
}
