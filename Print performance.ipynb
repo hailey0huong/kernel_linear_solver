{
 "cells": [
  {
   "cell_type": "code",
   "execution_count": null,
   "metadata": {},
   "outputs": [],
   "source": [
    "import math\n",
    "import scipy as sp\n",
    "import scipy.stats as st\n",
    "import numpy as np\n",
    "import matplotlib.pyplot as plt\n",
    "\n",
    "from sklearn import gaussian_process\n",
    "from sklearn.gaussian_process.kernels import Matern, WhiteKernel, ConstantKernel, RBF\n",
    "from random import Random\n",
    "from numpy import *\n",
    "from time import *\n",
    "from datetime import *\n",
    "from IPython.display import display\n",
    "from time import time\n",
    "\n",
    "%matplotlib inline\n",
    "%load_ext autoreload\n",
    "%autoreload 2\n",
    "\n",
    "testing_number = 100\n",
    "\n",
    "for testing_matrix in range(6, 6+7):\n",
    "\n",
    "    call = 1\n",
    "    put = 1\n",
    "\n",
    "    \n",
    "    x_train = np.array(np.linspace(0.01,1.0, testing_matrix**3), dtype='float32').reshape(testing_matrix**3, 1)\n",
    "    x_test = np.array(np.linspace(0.01,1.0, testing_number), dtype='float32').reshape(testing_number, 1)\n",
    "\n",
    "    y_train = []\n",
    "\n",
    "    for idx in range(len(x_train)):\n",
    "        y_train.append(1)\n",
    "    y_train = np.array(y_train)\n",
    "\n",
    "    sk_kernel = RBF(length_scale=1.0, length_scale_bounds=(0.01, 10000.0)) #+ WhiteKernel(noise_level = 1e-12) #100000.0\n",
    "    gp = gaussian_process.GaussianProcessRegressor(kernel=sk_kernel, n_restarts_optimizer=20)\n",
    "    gp.fit(x_train,y_train)\n",
    "    y_pred, sigma_hat = gp.predict(x_test, return_std=True)\n",
    "\n",
    "    l = gp.kernel_.length_scale\n",
    "    rbf= gaussian_process.kernels.RBF(length_scale=l)\n",
    "\n",
    "    Kernel= rbf(x_train, x_train)\n",
    "    K_y = Kernel + np.eye(testing_matrix**3) * 1e-8\n",
    "    #L, lower = sp.linalg.cho_factor(K_y, lower=True)\n",
    "    \n",
    "    t1 = time()\n",
    "    L1 = sp.linalg.cholesky(K_y, lower=True)\n",
    "    t2 = time()\n",
    "    runtime = t2 - t1\n",
    "    \n",
    "    print(\" \")\n",
    "    print(\"Matrix size is {size}.\".format(size=L1.shape))\n",
    "    print(\"Relative error is {error}\".format(error=np.linalg.norm(L1@L1.T-K_y)/np.linalg.norm(K_y)))\n",
    "    print(\"Runtime of factorization is {rt} seconds.\".format(rt=runtime))\n",
    "    print(\" \")\n"
   ]
  },
  {
   "cell_type": "code",
   "execution_count": null,
   "metadata": {},
   "outputs": [],
   "source": []
  }
 ],
 "metadata": {
  "kernelspec": {
   "display_name": "Python 3",
   "language": "python",
   "name": "python3"
  },
  "language_info": {
   "codemirror_mode": {
    "name": "ipython",
    "version": 3
   },
   "file_extension": ".py",
   "mimetype": "text/x-python",
   "name": "python",
   "nbconvert_exporter": "python",
   "pygments_lexer": "ipython3",
   "version": "3.7.0"
  }
 },
 "nbformat": 4,
 "nbformat_minor": 2
}
