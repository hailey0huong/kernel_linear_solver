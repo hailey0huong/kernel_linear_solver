{
 "cells": [
  {
   "cell_type": "code",
   "execution_count": 38,
   "metadata": {},
   "outputs": [
    {
     "name": "stdout",
     "output_type": "stream",
     "text": [
      "The autoreload extension is already loaded. To reload it, use:\n",
      "  %reload_ext autoreload\n"
     ]
    },
    {
     "name": "stderr",
     "output_type": "stream",
     "text": [
      "C:\\Users\\Woodrow\\Anaconda3\\lib\\site-packages\\sklearn\\gaussian_process\\gpr.py:335: UserWarning: Predicted variances smaller than 0. Setting those variances to 0.\n",
      "  warnings.warn(\"Predicted variances smaller than 0. \"\n"
     ]
    },
    {
     "name": "stdout",
     "output_type": "stream",
     "text": [
      " \n",
      "Matrix size is (216, 216).\n",
      "Relative error of the factorization is 1.381768403444049e-16\n",
      "Runtime of factorization is 0.0010161399841308594 seconds.\n",
      " \n",
      "Relative error of solving the LS is 2.22950855480604e-08\n",
      "Runtime of solving the LS is 0.0 seconds.\n",
      " \n",
      " \n",
      "Matrix size is (343, 343).\n",
      "Relative error of the factorization is 1.7007239692648267e-16\n",
      "Runtime of factorization is 0.002994060516357422 seconds.\n",
      " \n",
      "Relative error of solving the LS is 1.3972304578105185e-07\n",
      "Runtime of solving the LS is 0.0 seconds.\n",
      " \n",
      " \n",
      "Matrix size is (512, 512).\n",
      "Relative error of the factorization is 1.9038599692753856e-16\n",
      "Runtime of factorization is 0.010993480682373047 seconds.\n",
      " \n",
      "Relative error of solving the LS is 2.233839947742477e-07\n",
      "Runtime of solving the LS is 0.0010025501251220703 seconds.\n",
      " \n",
      " \n",
      "Matrix size is (729, 729).\n",
      "Relative error of the factorization is 1.7159446608894352e-16\n",
      "Runtime of factorization is 0.02000713348388672 seconds.\n",
      " \n",
      "Relative error of solving the LS is 5.812107812370741e-07\n",
      "Runtime of solving the LS is 0.0019969940185546875 seconds.\n",
      " \n",
      " \n",
      "Matrix size is (1000, 1000).\n",
      "Relative error of the factorization is 1.8760989287863593e-16\n",
      "Runtime of factorization is 0.044977664947509766 seconds.\n",
      " \n",
      "Relative error of solving the LS is 6.811067305345665e-07\n",
      "Runtime of solving the LS is 0.001995086669921875 seconds.\n",
      " \n",
      " \n",
      "Matrix size is (1331, 1331).\n",
      "Relative error of the factorization is 1.692327564549657e-16\n",
      "Runtime of factorization is 0.14291858673095703 seconds.\n",
      " \n",
      "Relative error of solving the LS is 1.5423111045166707e-06\n",
      "Runtime of solving the LS is 0.0050029754638671875 seconds.\n",
      " \n",
      " \n",
      "Matrix size is (1728, 1728).\n",
      "Relative error of the factorization is 1.7663361549624132e-16\n",
      "Runtime of factorization is 0.24286103248596191 seconds.\n",
      " \n",
      "Relative error of solving the LS is 1.8739638673595175e-06\n",
      "Runtime of solving the LS is 0.00799560546875 seconds.\n",
      " \n"
     ]
    }
   ],
   "source": [
    "import math\n",
    "import scipy as sp\n",
    "import scipy.stats as st\n",
    "import numpy as np\n",
    "import matplotlib.pyplot as plt\n",
    "\n",
    "from sklearn import gaussian_process\n",
    "from sklearn.gaussian_process.kernels import Matern, WhiteKernel, ConstantKernel, RBF\n",
    "from random import Random\n",
    "from numpy import *\n",
    "from time import *\n",
    "from datetime import *\n",
    "from IPython.display import display\n",
    "from time import time\n",
    "\n",
    "%matplotlib inline\n",
    "%load_ext autoreload\n",
    "%autoreload 2\n",
    "\n",
    "\n",
    "for testing_matrix in range(6, 6+7):\n",
    "\n",
    "    x_train = np.array(np.linspace(0.01,1.0, testing_matrix**3), dtype='float32').reshape(testing_matrix**3, 1)\n",
    "    \n",
    "    y_train = []\n",
    "\n",
    "    for idx in range(len(x_train)):\n",
    "        y_train.append(random.uniform(0, 10))\n",
    "        #y_train.append(1)\n",
    "    y_train = np.array(y_train)\n",
    "\n",
    "    sk_kernel = RBF(length_scale=1.0, length_scale_bounds=(0.01, 10000.0)) #+ WhiteKernel(noise_level = 1e-12) #100000.0\n",
    "    gp = gaussian_process.GaussianProcessRegressor(kernel=sk_kernel, n_restarts_optimizer=20)\n",
    "    gp.fit(x_train,y_train)\n",
    "    y_pred, sigma_hat = gp.predict(x_test, return_std=True)\n",
    "\n",
    "    l = gp.kernel_.length_scale\n",
    "    rbf= gaussian_process.kernels.RBF(length_scale=l)\n",
    "\n",
    "    Kernel= rbf(x_train, x_train)\n",
    "    K_y = Kernel + np.eye(testing_matrix**3) * 1e-8\n",
    "        \n",
    "    t1 = time()\n",
    "    #L, lower = sp.linalg.cho_factor(K_y, lower=True)\n",
    "    L1 = sp.linalg.cholesky(K_y, lower=True)\n",
    "    t2 = time()\n",
    "    runtimeFT = t2 - t1\n",
    "    \n",
    "    print(\" \")\n",
    "    print(\"Matrix size is {size}.\".format(size=L1.shape))\n",
    "    print(\"Relative error of the factorization is {error}\".format(error=np.linalg.norm(L1@L1.T-K_y)/np.linalg.norm(K_y)))\n",
    "    print(\"Runtime of factorization is {rt} seconds.\".format(rt=runtimeFT))\n",
    "    print(\" \")\n",
    "    \n",
    "    L1 = L1, lower\n",
    "    b = np.ones(testing_matrix**3)\n",
    "    c = K_y@b.T\n",
    "    t3 = time()\n",
    "    sol = sp.linalg.cho_solve(L1, c.T) \n",
    "    ##### cho_solve use result of cho_factor, therefore to be relatable between cho_solve and cholesky, \n",
    "    ##### the equivalence between cholesky and cho_factor needs to be verified.\n",
    "    t4 = time()\n",
    "    runtimeLS = t4 - t3 \n",
    "    \n",
    "    print(\"Relative error of solving the LS is {error}\".format(error=np.linalg.norm(sol-b)/np.linalg.norm(b)))\n",
    "    print(\"Runtime of solving the LS is {rt} seconds.\".format(rt=runtimeLS))\n",
    "    print(\" \")\n"
   ]
  },
  {
   "cell_type": "code",
   "execution_count": null,
   "metadata": {
    "collapsed": true
   },
   "outputs": [],
   "source": []
  },
  {
   "cell_type": "code",
   "execution_count": null,
   "metadata": {
    "collapsed": true
   },
   "outputs": [],
   "source": []
  }
 ],
 "metadata": {
  "anaconda-cloud": {},
  "kernelspec": {
   "display_name": "Python [default]",
   "language": "python",
   "name": "python3"
  },
  "language_info": {
   "codemirror_mode": {
    "name": "ipython",
    "version": 3
   },
   "file_extension": ".py",
   "mimetype": "text/x-python",
   "name": "python",
   "nbconvert_exporter": "python",
   "pygments_lexer": "ipython3",
   "version": "3.7.0"
  }
 },
 "nbformat": 4,
 "nbformat_minor": 2
}
