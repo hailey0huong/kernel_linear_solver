{
 "cells": [
  {
   "cell_type": "code",
   "execution_count": 134,
   "metadata": {},
   "outputs": [
    {
     "name": "stdout",
     "output_type": "stream",
     "text": [
      "The autoreload extension is already loaded. To reload it, use:\n",
      "  %reload_ext autoreload\n"
     ]
    }
   ],
   "source": [
    "from random import Random\n",
    "from numpy import *\n",
    "from time import *\n",
    "from datetime import *\n",
    "from IPython.display import display\n",
    "import math\n",
    "import scipy as sp\n",
    "\n",
    "import matplotlib.pyplot as plt\n",
    "from sklearn import gaussian_process\n",
    "from sklearn.gaussian_process.kernels import Matern, WhiteKernel, ConstantKernel, RBF\n",
    "\n",
    "%matplotlib inline\n",
    "%load_ext autoreload\n",
    "%autoreload 2\n",
    "\n",
    "import scipy.stats as st\n",
    "import numpy as np\n",
    "import math\n",
    "\n",
    "def bsformula(cp, s, k, rf, t, v, div):\n",
    "        \"\"\" Price an option using the Black-Scholes model.\n",
    "        cp: +1/-1 for call/put\n",
    "        s: initial stock price\n",
    "        k: strike price\n",
    "        t: expiration time\n",
    "        v: volatility\n",
    "        rf: risk-free rate\n",
    "        div: dividend\n",
    "        \"\"\"\n",
    "\n",
    "        d1 = (np.log(s/k)+(rf-div+0.5*v*v)*t)/(v*np.sqrt(t))\n",
    "        d2 = d1 - v*np.sqrt(t)\n",
    "\n",
    "        optprice = (cp*s*np.exp(-div*t)*st.norm.cdf(cp*d1)) - (cp*k*np.exp(-rf*t)*st.norm.cdf(cp*d2))\n",
    "        delta = cp*st.norm.cdf(cp*d1)\n",
    "        vega  = s*np.sqrt(t)*st.norm.pdf(d1)\n",
    "        return optprice, delta, vega\n",
    "    \n",
    "KC = 130\n",
    "KP = 70\n",
    "r = 0.002\n",
    "sigma = 0.4\n",
    "T = 2.0\n",
    "S0 = 100\n",
    "\n",
    "lb = 0\n",
    "ub = 300\n",
    "training_number = 3\n",
    "testing_number = 100\n",
    "\n",
    "call = lambda x,y: bsformula(1, lb+(ub-lb)*x, KC, r, T, y, 0)[0]\n",
    "put = lambda x,y: bsformula(-1, lb+(ub-lb)*x, KP, r, T, y, 0)[0]\n",
    "\n",
    "x_train = np.array(np.linspace(0.01,1.0, training_number), dtype='float32').reshape(training_number, 1)\n",
    "x_test = np.array(np.linspace(0.01,1.0, testing_number), dtype='float32').reshape(testing_number, 1)\n",
    "\n",
    "y_train = []\n",
    "    \n",
    "for idx in range(len(x_train)):\n",
    "    y_train.append(call(x_train[idx], sigma))\n",
    "y_train = np.array(y_train)\n",
    "\n",
    "sk_kernel = RBF(length_scale=1.0, length_scale_bounds=(0.01, 10000.0)) #+ WhiteKernel(noise_level = 1e-12) #100000.0\n",
    "gp = gaussian_process.GaussianProcessRegressor(kernel=sk_kernel, n_restarts_optimizer=20)\n",
    "gp.fit(x_train,y_train)\n",
    "y_pred, sigma_hat = gp.predict(x_test, return_std=True)\n",
    "    \n",
    "l = gp.kernel_.length_scale\n",
    "rbf= gaussian_process.kernels.RBF(length_scale=l)\n",
    " \n",
    "Kernel= rbf(x_train, x_train)\n",
    "K_y = Kernel + np.eye(training_number) * 1e-8\n",
    "L, lower = sp.linalg.cho_factor(K_y, lower=True)\n",
    "L1 = sp.linalg.cholesky(K_y, lower=True)\n"
   ]
  },
  {
   "cell_type": "code",
   "execution_count": 111,
   "metadata": {},
   "outputs": [
    {
     "data": {
      "text/plain": [
       "array([[1.06293699, 0.49465567, 0.07252614],\n",
       "       [0.49465567, 1.06292135, 0.49318154],\n",
       "       [0.07252614, 0.49318154, 1.00000001]])"
      ]
     },
     "metadata": {},
     "output_type": "display_data"
    },
    {
     "data": {
      "text/plain": [
       "2.0605779473442127"
      ]
     },
     "metadata": {},
     "output_type": "display_data"
    },
    {
     "data": {
      "text/plain": [
       "0.2444257296083435"
      ]
     },
     "metadata": {},
     "output_type": "display_data"
    }
   ],
   "source": [
    "A1 = L@L.T\n",
    "display(A1)\n",
    "display(np.linalg.norm(A1))\n",
    "B = A1 - K_y\n",
    "display(np.linalg.norm(B)/np.linalg.norm(A1)) \n",
    "#relative error of \"Cho_factor\" algorithm\n",
    "#This algorithm is problematic??????? For 3x3 matrix there should be very small error because of the simplicity???"
   ]
  },
  {
   "cell_type": "code",
   "execution_count": 112,
   "metadata": {},
   "outputs": [
    {
     "data": {
      "text/plain": [
       "array([[1.00000001, 0.2508412 , 0.00395909],\n",
       "       [0.2508412 , 1.00000001, 0.25084126],\n",
       "       [0.00395909, 0.25084126, 1.00000001]])"
      ]
     },
     "metadata": {},
     "output_type": "display_data"
    },
    {
     "data": {
      "text/plain": [
       "1.8032517027984196"
      ]
     },
     "metadata": {},
     "output_type": "display_data"
    },
    {
     "data": {
      "text/plain": [
       "1.30605099907616e-16"
      ]
     },
     "metadata": {},
     "output_type": "display_data"
    }
   ],
   "source": [
    "A2 = L1@L1.T\n",
    "display(A2)\n",
    "display(np.linalg.norm(A2))\n",
    "B = A2 - K_y\n",
    "display(np.linalg.norm(B)/np.linalg.norm(A2)) \n",
    "#relative error of \"Cholesky\" algorithm"
   ]
  },
  {
   "cell_type": "code",
   "execution_count": 132,
   "metadata": {},
   "outputs": [
    {
     "data": {
      "text/plain": [
       "array([[ 1,  2,  3],\n",
       "       [ 2,  5,  6],\n",
       "       [ 3,  6, 11]])"
      ]
     },
     "metadata": {},
     "output_type": "display_data"
    }
   ],
   "source": [
    "K = array([[1,2,3],[2,5,6],[3,6,11]]) #Lets use some simple number in a 3x3 matrix for testing\n",
    "display(K)"
   ]
  },
  {
   "cell_type": "code",
   "execution_count": 140,
   "metadata": {},
   "outputs": [
    {
     "data": {
      "text/plain": [
       "array([[1.        , 0.        , 0.        ],\n",
       "       [2.        , 1.        , 0.        ],\n",
       "       [3.        , 0.        , 1.41421356]])"
      ]
     },
     "metadata": {},
     "output_type": "display_data"
    },
    {
     "data": {
      "text/plain": [
       "array([[ 1.,  2.,  3.],\n",
       "       [ 2.,  5.,  6.],\n",
       "       [ 3.,  6., 11.]])"
      ]
     },
     "metadata": {},
     "output_type": "display_data"
    }
   ],
   "source": [
    "L = sp.linalg.cholesky(K, lower=True)\n",
    "display(L)\n",
    "display(L@L.T)"
   ]
  },
  {
   "cell_type": "code",
   "execution_count": 142,
   "metadata": {},
   "outputs": [
    {
     "data": {
      "text/plain": [
       "array([[1.        , 2.        , 3.        ],\n",
       "       [2.        , 1.        , 6.        ],\n",
       "       [3.        , 0.        , 1.41421356]])"
      ]
     },
     "metadata": {},
     "output_type": "display_data"
    },
    {
     "data": {
      "text/plain": [
       "array([[14.        , 22.        ,  7.24264069],\n",
       "       [22.        , 41.        , 14.48528137],\n",
       "       [ 7.24264069, 14.48528137, 11.        ]])"
      ]
     },
     "metadata": {},
     "output_type": "display_data"
    }
   ],
   "source": [
    "L, lower = sp.linalg.cho_factor(K, lower=True)\n",
    "display(L)\n",
    "display(L@L.T)"
   ]
  },
  {
   "cell_type": "code",
   "execution_count": null,
   "metadata": {},
   "outputs": [],
   "source": []
  }
 ],
 "metadata": {
  "kernelspec": {
   "display_name": "Python 3",
   "language": "python",
   "name": "python3"
  },
  "language_info": {
   "codemirror_mode": {
    "name": "ipython",
    "version": 3
   },
   "file_extension": ".py",
   "mimetype": "text/x-python",
   "name": "python",
   "nbconvert_exporter": "python",
   "pygments_lexer": "ipython3",
   "version": "3.7.0"
  }
 },
 "nbformat": 4,
 "nbformat_minor": 2
}
